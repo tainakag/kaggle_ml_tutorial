{
 "cells": [
  {
   "cell_type": "markdown",
   "source": [
    "# Underfitting and Overfitting\n",
    "\n",
    "## 異なるモデルの比較\n",
    "\n",
    "- これまでのStepでモデルの精度を計測できるようになった\n",
    "- 異なるモデルの中から最も優れた予測を与えてくれるものを見つけましょう\n",
    "- ところで他にはどんなモデルがあるのでしょうか\n",
    "- scikit-learnの[the decision tree model](http://scikit-learn.org/stable/modules/generated/sklearn.tree.DecisionTreeRegressor.html)は非常に多くのオプションを持つ\n",
    "- 最も重要なオプションの一つは `the tree's depth`\n",
    "\n",
    "## Tree's Depth\n",
    "\n",
    "- tree's depthの値がsplitの数に直結している\n",
    "    - 1split 2groups\n",
    "    - 2split 4groups\n",
    "    - 10split 1024groups\n",
    "- split数が多くなるとその分、各葉に割り当てられる家は少なくなる\n",
    "    - 家が非常に少ない葉は、それらの家の実際の値に非常に近い予測を行いますが、新しいデータについては非常に信頼性の低い予測を行う可能性があります（各予測は少数の家のみに基づいているため）。\n",
    "- この現象を`overfitting`もしくは、 `過学習` と呼びます\n",
    "\n",
    "- 逆にsplit数が極端に少ないと、学習データへの予測さえ精度が非常に悪くなる現象もあります。これを `underfitting` と呼びます\n"
   ],
   "metadata": {}
  },
  {
   "cell_type": "code",
   "execution_count": 1,
   "source": [
    "from sklearn.metrics import mean_absolute_error\n",
    "from sklearn.tree import DecisionTreeRegressor\n",
    "\n",
    "def get_mae(max_leaf_nodes, train_X, val_X, train_y, val_y):\n",
    "    model = DecisionTreeRegressor(max_leaf_nodes=max_leaf_nodes, random_state=0)\n",
    "    model.fit(train_X, train_y)\n",
    "    preds_val = model.predict(val_X)\n",
    "    mae = mean_absolute_error(val_y, preds_val)\n",
    "    return(mae)"
   ],
   "outputs": [],
   "metadata": {}
  },
  {
   "cell_type": "code",
   "execution_count": 2,
   "source": [
    "# Data Loading Code Runs At This Point\n",
    "import pandas as pd\n",
    "    \n",
    "# Load data\n",
    "melbourne_file_path = '../../melb_data.csv'\n",
    "melbourne_data = pd.read_csv(melbourne_file_path) \n",
    "# Filter rows with missing values\n",
    "filtered_melbourne_data = melbourne_data.dropna(axis=0)\n",
    "# Choose target and features\n",
    "y = filtered_melbourne_data.Price\n",
    "melbourne_features = ['Rooms', 'Bathroom', 'Landsize', 'BuildingArea', \n",
    "                        'YearBuilt', 'Lattitude', 'Longtitude']\n",
    "X = filtered_melbourne_data[melbourne_features]\n",
    "\n",
    "from sklearn.model_selection import train_test_split\n",
    "\n",
    "# split data into training and validation data, for both features and target\n",
    "train_X, val_X, train_y, val_y = train_test_split(X, y,random_state = 0)"
   ],
   "outputs": [],
   "metadata": {}
  },
  {
   "cell_type": "code",
   "execution_count": 9,
   "source": [
    "for max_leaf_nodes in [5, 50, 100, 500, 600, 5000]:\n",
    "    my_mae = get_mae(max_leaf_nodes, train_X, val_X, train_y, val_y)\n",
    "    print(\"Max leaf nodes: %d  \\t\\t Mean Absolute Error:  %d\" %(max_leaf_nodes, my_mae))"
   ],
   "outputs": [
    {
     "output_type": "stream",
     "name": "stdout",
     "text": [
      "Max leaf nodes: 5  \t\t Mean Absolute Error:  347380\n",
      "Max leaf nodes: 50  \t\t Mean Absolute Error:  258171\n",
      "Max leaf nodes: 100  \t\t Mean Absolute Error:  248734\n",
      "Max leaf nodes: 500  \t\t Mean Absolute Error:  243495\n",
      "Max leaf nodes: 600  \t\t Mean Absolute Error:  243951\n",
      "Max leaf nodes: 5000  \t\t Mean Absolute Error:  254983\n"
     ]
    }
   ],
   "metadata": {}
  }
 ],
 "metadata": {
  "orig_nbformat": 4,
  "language_info": {
   "name": "python",
   "version": "3.7.6",
   "mimetype": "text/x-python",
   "codemirror_mode": {
    "name": "ipython",
    "version": 3
   },
   "pygments_lexer": "ipython3",
   "nbconvert_exporter": "python",
   "file_extension": ".py"
  },
  "kernelspec": {
   "name": "python3",
   "display_name": "Python 3.7.6 64-bit ('kaggle-tutor-NpRbubLl-py3.7': poetry)"
  },
  "interpreter": {
   "hash": "4d503ffe503108106fbd6e16bb969a55b6db1eb21e4281d1bc550dc9978278e1"
  }
 },
 "nbformat": 4,
 "nbformat_minor": 2
}